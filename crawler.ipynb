{
 "cells": [
  {
   "cell_type": "code",
   "execution_count": 1,
   "metadata": {},
   "outputs": [],
   "source": [
    "import requests\n",
    "from datetime import datetime\n",
    "import json\n",
    "import time\n",
    "import threading"
   ]
  },
  {
   "cell_type": "code",
   "execution_count": 2,
   "metadata": {},
   "outputs": [],
   "source": [
    "url_match_by_idmatch = \"https://euw1.api.riotgames.com/lol/match/v4/matches/\""
   ]
  },
  {
   "cell_type": "code",
   "execution_count": 3,
   "metadata": {},
   "outputs": [],
   "source": [
    "def get_api_key():\n",
    "    with open(\"api_key\",\"r\") as f:\n",
    "        return f.read()"
   ]
  },
  {
   "cell_type": "code",
   "execution_count": 4,
   "metadata": {},
   "outputs": [],
   "source": [
    "def read_json_from_file(file):\n",
    "    with open(file,encoding='utf8') as f:\n",
    "        return json.load(f)\n",
    "def write_json_to_file(json_data,file,mode):\n",
    "    with open(file, mode) as f:\n",
    "        json.dump(json_data, f)"
   ]
  },
  {
   "cell_type": "code",
   "execution_count": 5,
   "metadata": {},
   "outputs": [],
   "source": [
    "def predict_execution(nb_r):\n",
    "    requests_100 = 120\n",
    "    atm = time.time()\n",
    "    t = nb_r/100*requests_100\n",
    "    print(\"predicted execution time for\",nb_r,\"requests :\",t,\"s\")\n",
    "    print(\"predicted end time for\",nb_r,\"requests :\", datetime.fromtimestamp(atm+t).strftime('%Y-%m-%d %H:%M:%S'))"
   ]
  },
  {
   "cell_type": "code",
   "execution_count": 6,
   "metadata": {},
   "outputs": [],
   "source": [
    "def get_mode(game):\n",
    "    mode_code = game['queueId']\n",
    "    if(mode_code==400):\n",
    "        return(\"normal\")\n",
    "    elif(mode_code==420):\n",
    "        return(\"soloduo\")\n",
    "    elif(mode_code==440):\n",
    "        return(\"flex\")\n",
    "    elif(mode_code==450):\n",
    "        return(\"aram\")\n",
    "def get_duration(game):\n",
    "    return game['gameDuration']"
   ]
  },
  {
   "cell_type": "code",
   "execution_count": 33,
   "metadata": {},
   "outputs": [],
   "source": [
    "def crawl(start_id,nb_requests,api_key):\n",
    "    \n",
    "    key_s = \"?api_key=\"+ api_key\n",
    "    start_time = time.time()\n",
    "    new_normal,new_soloduo,new_flex,new_aram = 0,0,0,0\n",
    "    n_404 = 0\n",
    "    \n",
    "    try:\n",
    "        with open(\"logs/crawl.log\",'r') as f:\n",
    "            start_id = int(f.readline()[16:26])\n",
    "    except:\n",
    "        pass\n",
    "\n",
    "    predict_execution(nb_requests)\n",
    "    print()\n",
    "\n",
    "    for i in range(start_id,start_id+nb_requests):\n",
    "        r = requests.get(url_match_by_idmatch+str(i)+key_s) \n",
    "        if(r.status_code == 404):\n",
    "            n_404 += 1\n",
    "            if(n_404==30):\n",
    "                print(\"stopping, too much 404\")\n",
    "                break\n",
    "        elif(r.status_code == 429):\n",
    "            try:\n",
    "                wait_time = int(r.headers[\"Retry-After\"])+1                \n",
    "            except KeyError:\n",
    "                wait_time = 10\n",
    "            wait_end = datetime.fromtimestamp(time.time()+wait_time+1).strftime('%Y-%m-%d %H:%M:%S')\n",
    "            print(\"atm :\", datetime.fromtimestamp(time.time()).strftime('%Y-%m-%d %H:%M:%S'))\n",
    "            print(\"sleep until\",wait_end)\n",
    "            time.sleep(wait_time+1)\n",
    "            i = i-1\n",
    "        elif(r.status_code == 200):\n",
    "            n_404 = 0\n",
    "            game = r.json()\n",
    "            if(get_duration(game)>300):\n",
    "            #We don't want remakes\n",
    "                mode = get_mode(game)\n",
    "                if(mode == \"normal\"):\n",
    "                    write_json_to_file(game,\"data/normal/\"+str(i)+\".json\",\"w\")\n",
    "                    new_normal += 1\n",
    "                elif(mode == \"soloduo\"):\n",
    "                    write_json_to_file(game,\"data/soloduo/\"+str(i)+\".json\",\"w\")\n",
    "                    new_soloduo += 1\n",
    "                elif(mode == \"flex\"):\n",
    "                    write_json_to_file(game,\"data/flex/\"+str(i)+\".json\",\"w\")\n",
    "                    new_flex += 1\n",
    "                elif(mode == \"aram\"):\n",
    "                    write_json_to_file(game,\"data/aram/\"+str(i)+\".json\",\"w\")\n",
    "                    new_aram += 1\n",
    "        elif(r.status_code == 403):\n",
    "            print(\"API key issue\")\n",
    "            break\n",
    "        time.sleep(0.7)\n",
    "    \n",
    "    logs = \"Stoping at id = \"+str(i)+ \"\\nnew normal = \"+str(new_normal)+ \"\\nnew soloduo = \"+str(new_soloduo)\\\n",
    "    +\"\\nnew flex = \"+str(new_flex) + \"\\nnew aram = \"+str(new_aram) + \"\\nexecution time : \"+str(time.time()-start_time)+\"s\"\\\n",
    "    +\"\\nend time : \" + str(datetime.fromtimestamp(time.time()).strftime('%Y-%m-%d %H:%M:%S'))\n",
    "    \n",
    "    with open(\"logs/crawl.log\",\"w\") as f:\n",
    "        f.write(logs)\n",
    "        \n",
    "    print()\n",
    "    print(logs)"
   ]
  },
  {
   "cell_type": "code",
   "execution_count": 8,
   "metadata": {},
   "outputs": [],
   "source": [
    "class crawl_thread (threading.Thread):\n",
    "    def __init__(self,id_start,nb_requests,api_key):\n",
    "        threading.Thread.__init__(self) \n",
    "        self.id_start = id_start\n",
    "        self.nb_requests = nb_requests\n",
    "        self.api_key = api_key\n",
    "        \n",
    "    def run(self):\n",
    "        crawl(self.id_start,self.nb_requests,self.api_key)"
   ]
  },
  {
   "cell_type": "code",
   "execution_count": null,
   "metadata": {
    "scrolled": false
   },
   "outputs": [
    {
     "name": "stdout",
     "output_type": "stream",
     "text": [
      "predicted execution time for 1000 requests : 1200.0 s\n",
      "predicted end time for 1000 requests : 2018-12-18 10:58:58\n",
      "\n",
      "atm : 2018-12-18 10:40:58\n",
      "sleep until 2018-12-18 10:41:02\n",
      "atm : 2018-12-18 10:43:03\n",
      "sleep until 2018-12-18 10:43:06\n",
      "atm : 2018-12-18 10:45:06\n",
      "sleep until 2018-12-18 10:45:10\n"
     ]
    }
   ],
   "source": [
    "id_start = 0\n",
    "api_key = get_api_key()\n",
    "nb_requests = 1000\n",
    "\n",
    "t1 = crawl_thread(id_start,nb_requests,api_key)\n",
    "t1.start() \n",
    "#time.sleep(1.5)\n",
    "#t2 = crawl_thread(id_start+nb_requests,nb_requests,api_key2)\n",
    "#t2.start()\n",
    "\n",
    "t1.join()\n",
    "#t2.join()"
   ]
  },
  {
   "cell_type": "code",
   "execution_count": 29,
   "metadata": {},
   "outputs": [
    {
     "name": "stdout",
     "output_type": "stream",
     "text": [
      "3854427119\n"
     ]
    }
   ],
   "source": []
  }
 ],
 "metadata": {
  "kernelspec": {
   "display_name": "Python 3",
   "language": "python",
   "name": "python3"
  },
  "language_info": {
   "codemirror_mode": {
    "name": "ipython",
    "version": 3
   },
   "file_extension": ".py",
   "mimetype": "text/x-python",
   "name": "python",
   "nbconvert_exporter": "python",
   "pygments_lexer": "ipython3",
   "version": "3.7.0"
  }
 },
 "nbformat": 4,
 "nbformat_minor": 2
}
