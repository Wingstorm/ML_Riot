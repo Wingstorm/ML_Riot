{
 "cells": [
  {
   "cell_type": "code",
   "execution_count": 22,
   "metadata": {},
   "outputs": [],
   "source": [
    "import json\n",
    "import csv\n",
    "from os import listdir\n",
    "import time"
   ]
  },
  {
   "cell_type": "code",
   "execution_count": 12,
   "metadata": {},
   "outputs": [],
   "source": [
    "def get_champ(game):\n",
    "    game_data = []\n",
    "    for p in game['participants']: \n",
    "        game_data.append(p['championId'])\n",
    "    return game_data\n",
    "def get_winner(game):\n",
    "    if(game['teams'][0]['win'] == 'Win'):\n",
    "        return 0\n",
    "    else:\n",
    "        return 1"
   ]
  },
  {
   "cell_type": "code",
   "execution_count": 50,
   "metadata": {},
   "outputs": [],
   "source": [
    "def read_json_from_file(file):\n",
    "    with open(file,encoding='utf8') as f:\n",
    "        return json.load(f)\n",
    "def write_list_of_list_to_csv(l,file):\n",
    "    with open(file, \"a\", newline='') as f:\n",
    "        writer = csv.writer(f)\n",
    "        writer.writerows(l)"
   ]
  },
  {
   "cell_type": "code",
   "execution_count": 62,
   "metadata": {},
   "outputs": [],
   "source": [
    "def create_data(game_type):  \n",
    "    #game_type = \"aram\",\"normal\",\"soloduo\",\"flex\"\n",
    "    \n",
    "    files_list = listdir(\"data/\"+game_type)\n",
    "    \n",
    "    try:\n",
    "        with open(\"logs/\"+game_type+\".log\",\"r\") as f:\n",
    "            last_game_used = f.read() \n",
    "    except FileNotFoundError:\n",
    "        last_game_used = False\n",
    "        \n",
    "    if(last_game_used):\n",
    "        last_game_used_index = files_list.index(last_game_used)\n",
    "        files_list = files_list[last_game_used_index+1:len(files_list)]\n",
    "    \n",
    "    number_of_games = len(files_list)\n",
    "    #(142 champs * 2 teams + 1 winner) * number_of_games\n",
    "    \n",
    "    data = []\n",
    "    for n in range(number_of_games):\n",
    "        temp = []\n",
    "        for i in range(142*2+1):\n",
    "            temp.append(0)\n",
    "        data.append(temp)\n",
    "\n",
    "    dict_champ_index = read_json_from_file(\"json_utils/champions_index.json\")\n",
    "    dict_champ_key = read_json_from_file(\"json_utils/champions_key.json\")    \n",
    "\n",
    "    for n in range(0,number_of_games):\n",
    "        game = read_json_from_file(\"data/\"+game_type+\"/\"+files_list[n])\n",
    "        champions_list = get_champ(game)\n",
    "\n",
    "        for c in range(5):\n",
    "            champion_name = dict_champ_key[str(champions_list[c])]\n",
    "            data[n][dict_champ_index[champion_name]] = 1                \n",
    "        for c in range(5,10):\n",
    "            champion_name = dict_champ_key[str(champions_list[c])]\n",
    "            data[n][dict_champ_index[champion_name]+142] = 1       \n",
    "            \n",
    "        data[n][142*2] = get_winner(game)\n",
    "        \n",
    "    try:\n",
    "        last_file = files_list[n]\n",
    "        with open(\"logs/\"+game_type+\".log\",\"w\") as f:        \n",
    "            f.write(last_file)\n",
    "    except UnboundLocalError:\n",
    "        print(\"no new games\")\n",
    "        \n",
    "    return data"
   ]
  },
  {
   "cell_type": "code",
   "execution_count": 20,
   "metadata": {},
   "outputs": [],
   "source": [
    "def invert(i):\n",
    "    if(i==0):\n",
    "        return [1]\n",
    "    else:\n",
    "        return [0]\n",
    "\n",
    "def extend_dataset(dataset):\n",
    "    res = []\n",
    "    for d in dataset:\n",
    "        res.append(d[142:284] + d[0:142] + invert(d[284]))\n",
    "    return res\n",
    "\n",
    "def create_header():\n",
    "    dict_champ_index = read_json_from_file(\"json_utils/champions_index.json\")\n",
    "    header = []\n",
    "    for c in range(0,142):\n",
    "        header.append(dict_champ_index[str(c)]+\"_team0\")\n",
    "    for c in range(0,142):\n",
    "        header.append(dict_champ_index[str(c)]+\"_team1\")\n",
    "    header.append(\"winner\")\n",
    "    return [header]"
   ]
  },
  {
   "cell_type": "code",
   "execution_count": 69,
   "metadata": {},
   "outputs": [
    {
     "name": "stdout",
     "output_type": "stream",
     "text": [
      "no new games\n",
      "0.0813148021697998\n"
     ]
    }
   ],
   "source": [
    "start = time.time()\n",
    "data = create_data(\"aram\")\n",
    "print(time.time() - start)\n",
    "\n",
    "#data += extend_dataset(data)\n",
    "#data = create_header() + data\n",
    "if(len(data) != 0):\n",
    "    write_list_of_list_to_csv(data,\"csv/data_aram.csv\")"
   ]
  },
  {
   "cell_type": "code",
   "execution_count": 70,
   "metadata": {},
   "outputs": [
    {
     "data": {
      "text/plain": [
       "0"
      ]
     },
     "execution_count": 70,
     "metadata": {},
     "output_type": "execute_result"
    }
   ],
   "source": [
    "len(data)"
   ]
  },
  {
   "cell_type": "code",
   "execution_count": 65,
   "metadata": {},
   "outputs": [],
   "source": []
  },
  {
   "cell_type": "code",
   "execution_count": 7,
   "metadata": {},
   "outputs": [],
   "source": [
    "data_normal = create_data(\"normal\")\n",
    "data_soloduo = create_data(\"soloduo\")\n",
    "\n",
    "write_list_of_list_to_csv(data_normal+data_soloduo,\"csv/data_classic_soloduo.csv\")"
   ]
  },
  {
   "cell_type": "code",
   "execution_count": null,
   "metadata": {},
   "outputs": [],
   "source": []
  },
  {
   "cell_type": "code",
   "execution_count": 23,
   "metadata": {},
   "outputs": [],
   "source": []
  }
 ],
 "metadata": {
  "kernelspec": {
   "display_name": "Python 3",
   "language": "python",
   "name": "python3"
  },
  "language_info": {
   "codemirror_mode": {
    "name": "ipython",
    "version": 3
   },
   "file_extension": ".py",
   "mimetype": "text/x-python",
   "name": "python",
   "nbconvert_exporter": "python",
   "pygments_lexer": "ipython3",
   "version": "3.7.0"
  }
 },
 "nbformat": 4,
 "nbformat_minor": 2
}
